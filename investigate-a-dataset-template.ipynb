{
 "cells": [
  {
   "cell_type": "markdown",
   "metadata": {},
   "source": [
    ">  making movie industroy\n",
    "\n",
    "# Project: Investigate a Dataset (TMDb)\n",
    "\n",
    "## Table of Contents\n",
    "<ul>\n",
    "<li><a href=\"#intro\">Introduction</a></li>\n",
    "<li><a href=\"#wrangling\">Data Wrangling</a></li>\n",
    "<li><a href=\"#eda\">Exploratory Data Analysis</a></li>\n",
    "<li><a href=\"#conclusions\">Conclusions</a></li>\n",
    "</ul>"
   ]
  },
  {
   "cell_type": "code",
   "execution_count": 1,
   "metadata": {
    "collapsed": true
   },
   "outputs": [],
   "source": [
    "# load the necessary packages\n",
    "import seaborn as sns\n",
    "import pandas as pd\n",
    "import numpy as np\n",
    "import matplotlib.pyplot as plt\n",
    "%matplotlib inline\n",
    "\n",
    "# Remember to include a 'magic word' so that your visualizations are plotted\n",
    "#   inline with the notebook. See this page for more:\n",
    "#   http://ipython.readthedocs.io/en/stable/interactive/magics.html\n"
   ]
  },
  {
   "cell_type": "markdown",
   "metadata": {},
   "source": [
    "<a id='wrangling'></a>\n",
    "## Data Wrangling\n",
    "\n",
    "> **Tip**: In this section of the report, I will load in the data, check for cleanliness, and then trim and clean the dataset for analysis.\n",
    "\n",
    "### General Properties"
   ]
  },
  {
   "cell_type": "code",
   "execution_count": null,
   "metadata": {
    "collapsed": true
   },
   "outputs": [],
   "source": [
    "# get an overview of the data and explore it\n",
    "credits = pd.read_csv('tmdb_5000_credits.csv')\n",
    "movie = pd.read_csv('tmdb_5000_movies.csv')\n"
   ]
  },
  {
   "cell_type": "code",
   "execution_count": 2,
   "metadata": {},
   "outputs": [],
   "source": [
    "movies= pd.read_csv('movies.csv')"
   ]
  },
  {
   "cell_type": "code",
   "execution_count": null,
   "metadata": {},
   "outputs": [],
   "source": [
    "credits.head()\n"
   ]
  },
  {
   "cell_type": "code",
   "execution_count": null,
   "metadata": {},
   "outputs": [],
   "source": [
    "movie.head()"
   ]
  },
  {
   "cell_type": "markdown",
   "metadata": {},
   "source": [
    "#### after see the output from describe function we can make a conclusion:\n",
    "\n",
    "> \n",
    ">\n",
    " \n",
    " <ul>\n",
    "<li>the min value of age = -1 and max value is 115 so this row have to removed</li>\n",
    "\n",
    "</ul>"
   ]
  },
  {
   "cell_type": "code",
   "execution_count": null,
   "metadata": {},
   "outputs": [],
   "source": [
    "movie.info(), credits.info()"
   ]
  },
  {
   "cell_type": "markdown",
   "metadata": {},
   "source": [
    "\n",
    "\n",
    "### Data Cleaning (Rename columns and remove misleading values)"
   ]
  },
  {
   "cell_type": "markdown",
   "metadata": {},
   "source": [
    "#### Renaming columns and drop unnecessary columns"
   ]
  },
  {
   "cell_type": "code",
   "execution_count": null,
   "metadata": {
    "collapsed": true
   },
   "outputs": [],
   "source": [
    "movies = movie.merge(credits, on='title')\n"
   ]
  },
  {
   "cell_type": "code",
   "execution_count": null,
   "metadata": {},
   "outputs": [],
   "source": [
    "movies.to_csv('movies.csv',index=False)"
   ]
  },
  {
   "cell_type": "code",
   "execution_count": null,
   "metadata": {},
   "outputs": [],
   "source": [
    "movies.info()\n"
   ]
  },
  {
   "cell_type": "code",
   "execution_count": null,
   "metadata": {},
   "outputs": [],
   "source": [
    "movies.describe().T"
   ]
  },
  {
   "cell_type": "code",
   "execution_count": 3,
   "metadata": {},
   "outputs": [
    {
     "data": {
      "text/plain": [
       "0"
      ]
     },
     "execution_count": 3,
     "metadata": {},
     "output_type": "execute_result"
    }
   ],
   "source": [
    "# search for duplicated rows\n",
    "movies.duplicated().sum()\n"
   ]
  },
  {
   "cell_type": "markdown",
   "metadata": {},
   "source": [
    "#### Remove miss leading values from data"
   ]
  },
  {
   "cell_type": "code",
   "execution_count": 4,
   "metadata": {},
   "outputs": [],
   "source": [
    "movies = movies[movies['vote_average'] > 1 ]\n",
    "movies = movies[movies['vote_count'] > 10 ]\n",
    "movies = movies[movies['runtime'] > 5 ]\n",
    "movies = movies[movies['budget'] > 700]\n",
    "movies = movies[movies['revenue'] > 700]\n"
   ]
  },
  {
   "cell_type": "code",
   "execution_count": 4,
   "metadata": {},
   "outputs": [
    {
     "data": {
      "text/plain": [
       "budget                     0\n",
       "genres                     0\n",
       "homepage                1833\n",
       "id                         0\n",
       "keywords                   0\n",
       "original_language          0\n",
       "original_title             0\n",
       "overview                   0\n",
       "popularity                 0\n",
       "production_companies       0\n",
       "production_countries       0\n",
       "release_date               0\n",
       "revenue                    0\n",
       "runtime                    0\n",
       "spoken_languages           0\n",
       "status                     0\n",
       "tagline                  219\n",
       "title                      0\n",
       "vote_average               0\n",
       "vote_count                 0\n",
       "movie_id                   0\n",
       "cast                       0\n",
       "crew                       0\n",
       "dtype: int64"
      ]
     },
     "execution_count": 4,
     "metadata": {},
     "output_type": "execute_result"
    }
   ],
   "source": [
    "movies.isna().sum()"
   ]
  },
  {
   "cell_type": "markdown",
   "metadata": {},
   "source": [
    "#### Convert json columns to object type (String)"
   ]
  },
  {
   "cell_type": "code",
   "execution_count": 5,
   "metadata": {},
   "outputs": [],
   "source": [
    "import json\n",
    "# json_columns  ==> columns which in json format\n",
    "json_columns = [ 'genres', 'crew', 'keywords',\n",
    "           'production_companies', 'production_countries', 'spoken_languages', 'cast']\n",
    "for col in json_columns:\n",
    "    movies[col] = movies[col].apply(json.loads)\n",
    "\n"
   ]
  },
  {
   "cell_type": "code",
   "execution_count": 6,
   "metadata": {},
   "outputs": [],
   "source": [
    "def getDirectorName(director):\n",
    "    for i in director:\n",
    "        if i['job'] == 'Director':\n",
    "            return i['name']\n",
    "    return np.nan\n",
    "movies['director']= movies['crew'].apply(getDirectorName)"
   ]
  },
  {
   "cell_type": "markdown",
   "metadata": {},
   "source": [
    "##### Cleaning json columns after converting it to object type"
   ]
  },
  {
   "cell_type": "code",
   "execution_count": 7,
   "metadata": {},
   "outputs": [],
   "source": [
    "for column in json_columns:\n",
    "    for index, i in zip(movies.index, movies[column]):\n",
    "        list_names = []\n",
    "        for j in range(len(i)):\n",
    "           \n",
    "            list_names.append(i[j]['name'])\n",
    "            if len(list_names) >= 4:\n",
    "                break\n",
    "        movies.loc[index, column] = str(list_names)\n",
    "    movies[column] = movies[column].str.strip(\n",
    "        '[]').str.replace('\\'', \"\").str.replace(',', ' |')\n"
   ]
  },
  {
   "cell_type": "code",
   "execution_count": 8,
   "metadata": {},
   "outputs": [],
   "source": [
    "movies.status = movies.status.astype('category')\n",
    "movies.original_language = movies.original_language.astype('category')\n",
    "movies.release_date = pd.to_datetime(movies.release_date)\n",
    "movies.runtime = movies.runtime.astype(int)\n"
   ]
  },
  {
   "cell_type": "code",
   "execution_count": 9,
   "metadata": {},
   "outputs": [],
   "source": [
    "assert movies.original_title.all() == movies.title.all()\n",
    "assert movies.id.all() == movies.movie_id.all()\n"
   ]
  },
  {
   "cell_type": "markdown",
   "metadata": {},
   "source": [
    "Converting homepage column to category"
   ]
  },
  {
   "cell_type": "code",
   "execution_count": 10,
   "metadata": {},
   "outputs": [],
   "source": [
    "# convert homepage to category type\n",
    "movies[\"homepage\"] = np.where(movies[\"homepage\"].isna() == True, 0, 1)\n",
    "movies[\"homepage\"] = movies[\"homepage\"].astype('category')\n"
   ]
  },
  {
   "cell_type": "code",
   "execution_count": 11,
   "metadata": {},
   "outputs": [],
   "source": [
    "movies.drop(columns=['movie_id', 'tagline',\n",
    "             'spoken_languages','original_title','id','overview'],axis=1,inplace=True)"
   ]
  },
  {
   "cell_type": "code",
   "execution_count": 12,
   "metadata": {},
   "outputs": [],
   "source": [
    "movies['year']= movies['release_date'].dt.year\n"
   ]
  },
  {
   "cell_type": "code",
   "execution_count": 13,
   "metadata": {},
   "outputs": [
    {
     "data": {
      "text/html": [
       "<div>\n",
       "<style scoped>\n",
       "    .dataframe tbody tr th:only-of-type {\n",
       "        vertical-align: middle;\n",
       "    }\n",
       "\n",
       "    .dataframe tbody tr th {\n",
       "        vertical-align: top;\n",
       "    }\n",
       "\n",
       "    .dataframe thead th {\n",
       "        text-align: right;\n",
       "    }\n",
       "</style>\n",
       "<table border=\"1\" class=\"dataframe\">\n",
       "  <thead>\n",
       "    <tr style=\"text-align: right;\">\n",
       "      <th></th>\n",
       "      <th>budget</th>\n",
       "      <th>genres</th>\n",
       "      <th>homepage</th>\n",
       "      <th>keywords</th>\n",
       "      <th>original_language</th>\n",
       "      <th>popularity</th>\n",
       "      <th>production_companies</th>\n",
       "      <th>production_countries</th>\n",
       "      <th>release_date</th>\n",
       "      <th>revenue</th>\n",
       "      <th>runtime</th>\n",
       "      <th>status</th>\n",
       "      <th>title</th>\n",
       "      <th>vote_average</th>\n",
       "      <th>vote_count</th>\n",
       "      <th>cast</th>\n",
       "      <th>crew</th>\n",
       "      <th>director</th>\n",
       "      <th>year</th>\n",
       "    </tr>\n",
       "  </thead>\n",
       "  <tbody>\n",
       "    <tr>\n",
       "      <th>0</th>\n",
       "      <td>237000000</td>\n",
       "      <td>Action | Adventure | Fantasy | Science Fiction</td>\n",
       "      <td>1</td>\n",
       "      <td>culture clash | future | space war | space colony</td>\n",
       "      <td>en</td>\n",
       "      <td>150.437577</td>\n",
       "      <td>Ingenious Film Partners | Twentieth Century Fo...</td>\n",
       "      <td>United States of America | United Kingdom</td>\n",
       "      <td>2009-12-10</td>\n",
       "      <td>2787965087</td>\n",
       "      <td>162</td>\n",
       "      <td>Released</td>\n",
       "      <td>Avatar</td>\n",
       "      <td>7.2</td>\n",
       "      <td>11800</td>\n",
       "      <td>Sam Worthington | Zoe Saldana | Sigourney Weav...</td>\n",
       "      <td>Stephen E. Rivkin | Rick Carter | Christopher ...</td>\n",
       "      <td>James Cameron</td>\n",
       "      <td>2009</td>\n",
       "    </tr>\n",
       "    <tr>\n",
       "      <th>1</th>\n",
       "      <td>300000000</td>\n",
       "      <td>Adventure | Fantasy | Action</td>\n",
       "      <td>1</td>\n",
       "      <td>ocean | drug abuse | exotic island | east indi...</td>\n",
       "      <td>en</td>\n",
       "      <td>139.082615</td>\n",
       "      <td>Walt Disney Pictures | Jerry Bruckheimer Films...</td>\n",
       "      <td>United States of America</td>\n",
       "      <td>2007-05-19</td>\n",
       "      <td>961000000</td>\n",
       "      <td>169</td>\n",
       "      <td>Released</td>\n",
       "      <td>Pirates of the Caribbean: At World's End</td>\n",
       "      <td>6.9</td>\n",
       "      <td>4500</td>\n",
       "      <td>Johnny Depp | Orlando Bloom | Keira Knightley ...</td>\n",
       "      <td>Dariusz Wolski | Gore Verbinski | Jerry Bruckh...</td>\n",
       "      <td>Gore Verbinski</td>\n",
       "      <td>2007</td>\n",
       "    </tr>\n",
       "    <tr>\n",
       "      <th>2</th>\n",
       "      <td>245000000</td>\n",
       "      <td>Action | Adventure | Crime</td>\n",
       "      <td>1</td>\n",
       "      <td>spy | based on novel | secret agent | sequel</td>\n",
       "      <td>en</td>\n",
       "      <td>107.376788</td>\n",
       "      <td>Columbia Pictures | Danjaq | B24</td>\n",
       "      <td>United Kingdom | United States of America</td>\n",
       "      <td>2015-10-26</td>\n",
       "      <td>880674609</td>\n",
       "      <td>148</td>\n",
       "      <td>Released</td>\n",
       "      <td>Spectre</td>\n",
       "      <td>6.3</td>\n",
       "      <td>4466</td>\n",
       "      <td>Daniel Craig | Christoph Waltz | Léa Seydoux |...</td>\n",
       "      <td>Thomas Newman | Sam Mendes | Anna Pinnock | Jo...</td>\n",
       "      <td>Sam Mendes</td>\n",
       "      <td>2015</td>\n",
       "    </tr>\n",
       "  </tbody>\n",
       "</table>\n",
       "</div>"
      ],
      "text/plain": [
       "      budget                                          genres homepage  \\\n",
       "0  237000000  Action | Adventure | Fantasy | Science Fiction        1   \n",
       "1  300000000                    Adventure | Fantasy | Action        1   \n",
       "2  245000000                      Action | Adventure | Crime        1   \n",
       "\n",
       "                                            keywords original_language  \\\n",
       "0  culture clash | future | space war | space colony                en   \n",
       "1  ocean | drug abuse | exotic island | east indi...                en   \n",
       "2       spy | based on novel | secret agent | sequel                en   \n",
       "\n",
       "   popularity                               production_companies  \\\n",
       "0  150.437577  Ingenious Film Partners | Twentieth Century Fo...   \n",
       "1  139.082615  Walt Disney Pictures | Jerry Bruckheimer Films...   \n",
       "2  107.376788                   Columbia Pictures | Danjaq | B24   \n",
       "\n",
       "                        production_countries release_date     revenue  \\\n",
       "0  United States of America | United Kingdom   2009-12-10  2787965087   \n",
       "1                   United States of America   2007-05-19   961000000   \n",
       "2  United Kingdom | United States of America   2015-10-26   880674609   \n",
       "\n",
       "   runtime    status                                     title  vote_average  \\\n",
       "0      162  Released                                    Avatar           7.2   \n",
       "1      169  Released  Pirates of the Caribbean: At World's End           6.9   \n",
       "2      148  Released                                   Spectre           6.3   \n",
       "\n",
       "   vote_count                                               cast  \\\n",
       "0       11800  Sam Worthington | Zoe Saldana | Sigourney Weav...   \n",
       "1        4500  Johnny Depp | Orlando Bloom | Keira Knightley ...   \n",
       "2        4466  Daniel Craig | Christoph Waltz | Léa Seydoux |...   \n",
       "\n",
       "                                                crew        director  year  \n",
       "0  Stephen E. Rivkin | Rick Carter | Christopher ...   James Cameron  2009  \n",
       "1  Dariusz Wolski | Gore Verbinski | Jerry Bruckh...  Gore Verbinski  2007  \n",
       "2  Thomas Newman | Sam Mendes | Anna Pinnock | Jo...      Sam Mendes  2015  "
      ]
     },
     "execution_count": 13,
     "metadata": {},
     "output_type": "execute_result"
    }
   ],
   "source": [
    "s = ['Adventure', 'Fantasy', 'Action']\n",
    "x=movies[~movies['genres'].isin(s)]\n",
    "x.head(3)\n",
    "\n",
    "\n"
   ]
  },
  {
   "cell_type": "code",
   "execution_count": 62,
   "metadata": {},
   "outputs": [
    {
     "data": {
      "text/html": [
       "<div>\n",
       "<style scoped>\n",
       "    .dataframe tbody tr th:only-of-type {\n",
       "        vertical-align: middle;\n",
       "    }\n",
       "\n",
       "    .dataframe tbody tr th {\n",
       "        vertical-align: top;\n",
       "    }\n",
       "\n",
       "    .dataframe thead th {\n",
       "        text-align: right;\n",
       "    }\n",
       "</style>\n",
       "<table border=\"1\" class=\"dataframe\">\n",
       "  <thead>\n",
       "    <tr style=\"text-align: right;\">\n",
       "      <th></th>\n",
       "      <th>budget</th>\n",
       "      <th>popularity</th>\n",
       "      <th>revenue</th>\n",
       "      <th>runtime</th>\n",
       "      <th>vote_average</th>\n",
       "      <th>vote_count</th>\n",
       "      <th>year</th>\n",
       "    </tr>\n",
       "    <tr>\n",
       "      <th>director</th>\n",
       "      <th></th>\n",
       "      <th></th>\n",
       "      <th></th>\n",
       "      <th></th>\n",
       "      <th></th>\n",
       "      <th></th>\n",
       "      <th></th>\n",
       "    </tr>\n",
       "  </thead>\n",
       "  <tbody>\n",
       "    <tr>\n",
       "      <th>Steven Spielberg</th>\n",
       "      <td>1667500000</td>\n",
       "      <td>1309.456693</td>\n",
       "      <td>9147393164</td>\n",
       "      <td>3646</td>\n",
       "      <td>188.3</td>\n",
       "      <td>59771</td>\n",
       "      <td>53896</td>\n",
       "    </tr>\n",
       "    <tr>\n",
       "      <th>Peter Jackson</th>\n",
       "      <td>1293000000</td>\n",
       "      <td>792.017366</td>\n",
       "      <td>6498642820</td>\n",
       "      <td>1454</td>\n",
       "      <td>66.0</td>\n",
       "      <td>45533</td>\n",
       "      <td>18053</td>\n",
       "    </tr>\n",
       "    <tr>\n",
       "      <th>James Cameron</th>\n",
       "      <td>746900000</td>\n",
       "      <td>557.791802</td>\n",
       "      <td>5883569439</td>\n",
       "      <td>1018</td>\n",
       "      <td>51.3</td>\n",
       "      <td>32819</td>\n",
       "      <td>13950</td>\n",
       "    </tr>\n",
       "    <tr>\n",
       "      <th>Michael Bay</th>\n",
       "      <td>1410000000</td>\n",
       "      <td>520.982231</td>\n",
       "      <td>5832524638</td>\n",
       "      <td>1758</td>\n",
       "      <td>76.8</td>\n",
       "      <td>26845</td>\n",
       "      <td>24068</td>\n",
       "    </tr>\n",
       "    <tr>\n",
       "      <th>Christopher Nolan</th>\n",
       "      <td>1005000000</td>\n",
       "      <td>1482.985962</td>\n",
       "      <td>4227483234</td>\n",
       "      <td>1135</td>\n",
       "      <td>62.4</td>\n",
       "      <td>62653</td>\n",
       "      <td>16057</td>\n",
       "    </tr>\n",
       "    <tr>\n",
       "      <th>...</th>\n",
       "      <td>...</td>\n",
       "      <td>...</td>\n",
       "      <td>...</td>\n",
       "      <td>...</td>\n",
       "      <td>...</td>\n",
       "      <td>...</td>\n",
       "      <td>...</td>\n",
       "    </tr>\n",
       "    <tr>\n",
       "      <th>Jake Paltrow</th>\n",
       "      <td>15000000</td>\n",
       "      <td>12.185204</td>\n",
       "      <td>20380</td>\n",
       "      <td>93</td>\n",
       "      <td>5.7</td>\n",
       "      <td>41</td>\n",
       "      <td>2007</td>\n",
       "    </tr>\n",
       "    <tr>\n",
       "      <th>Kim Farrant</th>\n",
       "      <td>10000000</td>\n",
       "      <td>5.145655</td>\n",
       "      <td>17472</td>\n",
       "      <td>111</td>\n",
       "      <td>5.1</td>\n",
       "      <td>83</td>\n",
       "      <td>2015</td>\n",
       "    </tr>\n",
       "    <tr>\n",
       "      <th>Eric Nicholas</th>\n",
       "      <td>1000000</td>\n",
       "      <td>2.175696</td>\n",
       "      <td>10018</td>\n",
       "      <td>78</td>\n",
       "      <td>6.2</td>\n",
       "      <td>20</td>\n",
       "      <td>2006</td>\n",
       "    </tr>\n",
       "    <tr>\n",
       "      <th>Hal Haberman</th>\n",
       "      <td>1000000</td>\n",
       "      <td>1.260314</td>\n",
       "      <td>7202</td>\n",
       "      <td>81</td>\n",
       "      <td>6.6</td>\n",
       "      <td>32</td>\n",
       "      <td>2006</td>\n",
       "    </tr>\n",
       "    <tr>\n",
       "      <th>Jonathan Newman</th>\n",
       "      <td>25000000</td>\n",
       "      <td>8.842722</td>\n",
       "      <td>6399</td>\n",
       "      <td>99</td>\n",
       "      <td>5.1</td>\n",
       "      <td>73</td>\n",
       "      <td>2013</td>\n",
       "    </tr>\n",
       "  </tbody>\n",
       "</table>\n",
       "<p>1400 rows × 7 columns</p>\n",
       "</div>"
      ],
      "text/plain": [
       "                       budget   popularity     revenue  runtime  vote_average  \\\n",
       "director                                                                        \n",
       "Steven Spielberg   1667500000  1309.456693  9147393164     3646         188.3   \n",
       "Peter Jackson      1293000000   792.017366  6498642820     1454          66.0   \n",
       "James Cameron       746900000   557.791802  5883569439     1018          51.3   \n",
       "Michael Bay        1410000000   520.982231  5832524638     1758          76.8   \n",
       "Christopher Nolan  1005000000  1482.985962  4227483234     1135          62.4   \n",
       "...                       ...          ...         ...      ...           ...   \n",
       "Jake Paltrow         15000000    12.185204       20380       93           5.7   \n",
       "Kim Farrant          10000000     5.145655       17472      111           5.1   \n",
       "Eric Nicholas         1000000     2.175696       10018       78           6.2   \n",
       "Hal Haberman          1000000     1.260314        7202       81           6.6   \n",
       "Jonathan Newman      25000000     8.842722        6399       99           5.1   \n",
       "\n",
       "                   vote_count   year  \n",
       "director                              \n",
       "Steven Spielberg        59771  53896  \n",
       "Peter Jackson           45533  18053  \n",
       "James Cameron           32819  13950  \n",
       "Michael Bay             26845  24068  \n",
       "Christopher Nolan       62653  16057  \n",
       "...                       ...    ...  \n",
       "Jake Paltrow               41   2007  \n",
       "Kim Farrant                83   2015  \n",
       "Eric Nicholas              20   2006  \n",
       "Hal Haberman               32   2006  \n",
       "Jonathan Newman            73   2013  \n",
       "\n",
       "[1400 rows x 7 columns]"
      ]
     },
     "execution_count": 62,
     "metadata": {},
     "output_type": "execute_result"
    }
   ],
   "source": [
    "g = movies.groupby(['director', 'title']).sum()\n",
    "g.head(20)\n",
    "g.groupby('director').sum().sort_values(by='revenue', ascending=False)"
   ]
  },
  {
   "cell_type": "code",
   "execution_count": 14,
   "metadata": {},
   "outputs": [
    {
     "name": "stdout",
     "output_type": "stream",
     "text": [
      "<class 'pandas.core.frame.DataFrame'>\n",
      "Int64Index: 3617 entries, 0 to 4804\n",
      "Data columns (total 19 columns):\n",
      " #   Column                Non-Null Count  Dtype         \n",
      "---  ------                --------------  -----         \n",
      " 0   budget                3617 non-null   int64         \n",
      " 1   genres                3617 non-null   object        \n",
      " 2   homepage              3617 non-null   category      \n",
      " 3   keywords              3617 non-null   object        \n",
      " 4   original_language     3617 non-null   category      \n",
      " 5   overview              3617 non-null   object        \n",
      " 6   popularity            3617 non-null   float64       \n",
      " 7   production_companies  3617 non-null   object        \n",
      " 8   production_countries  3617 non-null   object        \n",
      " 9   release_date          3617 non-null   datetime64[ns]\n",
      " 10  revenue               3617 non-null   int64         \n",
      " 11  runtime               3617 non-null   float64       \n",
      " 12  status                3617 non-null   category      \n",
      " 13  title                 3617 non-null   object        \n",
      " 14  vote_average          3617 non-null   float64       \n",
      " 15  vote_count            3617 non-null   int64         \n",
      " 16  cast                  3617 non-null   object        \n",
      " 17  crew                  3617 non-null   object        \n",
      " 18  year                  3617 non-null   int64         \n",
      "dtypes: category(3), datetime64[ns](1), float64(3), int64(4), object(8)\n",
      "memory usage: 652.6+ KB\n"
     ]
    }
   ],
   "source": [
    "movies.info()\n"
   ]
  },
  {
   "cell_type": "markdown",
   "metadata": {},
   "source": [
    "<a id='eda'></a>\n",
    "## Exploratory Data Analysis\n"
   ]
  },
  {
   "cell_type": "markdown",
   "metadata": {},
   "source": [
    "#### Function for making a graph about patient who show up or not with specific property"
   ]
  },
  {
   "cell_type": "code",
   "execution_count": null,
   "metadata": {},
   "outputs": [],
   "source": [
    "def patient_properties(col_name: str, label1: str, label2: str, graph_type: str):\n",
    "    '''\n",
    "    make a graph about patient who show up or not with specific property\n",
    "    args:\n",
    "        col_name  => column name\n",
    "        label1    => name of label\n",
    "        label2    => name of label\n",
    "    return:\n",
    "        bar graph\n",
    "    '''\n",
    "    movies[col_name].value_counts().plot(kind=graph_type,\n",
    "                                              figsize=(20, 8), grid=True, alpha=0.5, label=label1)\n",
    "    movies[col_name].value_counts().plot(kind=graph_type,\n",
    "                                                     figsize=(20, 8), grid=True,  color='r', alpha=0.5, label=label2)\n",
    "    plt.legend()\n"
   ]
  },
  {
   "cell_type": "markdown",
   "metadata": {},
   "source": [
    "### Function to compare year with 2 other columns:<br>\n",
    "<ul>\n",
    "<li>x coordinate: column1 , column2</li>\n",
    "<li>y coordinate: age</li>\n",
    "</ul>"
   ]
  },
  {
   "cell_type": "markdown",
   "metadata": {},
   "source": [
    ">\n",
    "#### make a new 2 dataset to separate dateset for patient who came and didn't"
   ]
  },
  {
   "cell_type": "code",
   "execution_count": 21,
   "metadata": {},
   "outputs": [
    {
     "data": {
      "image/png": "[encoded data removed]",
      "text/plain": [
       "<Figure size 576x576 with 9 Axes>"
      ]
     },
     "metadata": {
      "needs_background": "light"
     },
     "output_type": "display_data"
    }
   ],
   "source": [
    "movies.hist(figsize=(8,8), bins=7);"
   ]
  },
  {
   "cell_type": "markdown",
   "metadata": {},
   "source": [
    "\n",
    "### Movie industry is profitable?"
   ]
  },
  {
   "cell_type": "code",
   "execution_count": 15,
   "metadata": {
    "collapsed": true
   },
   "outputs": [
    {
     "data": {
      "image/png": "[encoded data removed]",
      "text/plain": [
       "<Figure size 648x648 with 1 Axes>"
      ]
     },
     "metadata": {
      "needs_background": "light"
     },
     "output_type": "display_data"
    }
   ],
   "source": [
    "movies.groupby('year').mean().revenue.plot(\n",
    "    kind='line', figsize=(9, 9), alpha=0.5, color='green',grid=True )\n",
    "movies.groupby('year').mean().budget.plot(\n",
    "    kind='line', figsize=(9, 9), alpha=0.5, color='blue', title='Revenue vs Budget?',grid=True)\n",
    "\n",
    "plt.xlabel('year')\n",
    "plt.ylabel('average money')\n",
    "\n",
    "plt.legend()\n",
    "plt.show()\n"
   ]
  },
  {
   "cell_type": "markdown",
   "metadata": {},
   "source": [
    "\n",
    "if we look at this data we can see that the movie industry is profitable\n",
    "for more than 100 years just one time this industry lost its profit and if we look at this time it was the first world war.\n"
   ]
  },
  {
   "cell_type": "markdown",
   "metadata": {},
   "source": [
    "### What is the normal rate of movie and th highest ?(people rate)"
   ]
  },
  {
   "cell_type": "code",
   "execution_count": 24,
   "metadata": {},
   "outputs": [
    {
     "data": {
      "image/png": "[encoded data removed]",
      "text/plain": [
       "<Figure size 432x288 with 1 Axes>"
      ]
     },
     "metadata": {
      "needs_background": "light"
     },
     "output_type": "display_data"
    }
   ],
   "source": [
    "movies.groupby('vote_count').vote_average.mean().plot(\n",
    "    kind='hist', density=False, bins=15)\n",
    "plt.xlabel('vote average')\n",
    "plt.ylabel('vote count')\n",
    "plt.title('vote average vs vote count')\n",
    "plt.show()\n"
   ]
  },
  {
   "cell_type": "markdown",
   "metadata": {},
   "source": [
    "average movies get rate of 6.5 and the highest rate is 8.5 it not popular to get a movie with high rate"
   ]
  },
  {
   "cell_type": "markdown",
   "metadata": {},
   "source": [
    "### What genres gain more money ?(people love to watch)"
   ]
  },
  {
   "cell_type": "code",
   "execution_count": 39,
   "metadata": {},
   "outputs": [
    {
     "data": {
      "text/html": [
       "<div>\n",
       "<style scoped>\n",
       "    .dataframe tbody tr th:only-of-type {\n",
       "        vertical-align: middle;\n",
       "    }\n",
       "\n",
       "    .dataframe tbody tr th {\n",
       "        vertical-align: top;\n",
       "    }\n",
       "\n",
       "    .dataframe thead th {\n",
       "        text-align: right;\n",
       "    }\n",
       "</style>\n",
       "<table border=\"1\" class=\"dataframe\">\n",
       "  <thead>\n",
       "    <tr style=\"text-align: right;\">\n",
       "      <th></th>\n",
       "      <th></th>\n",
       "      <th></th>\n",
       "      <th></th>\n",
       "      <th></th>\n",
       "      <th>budget</th>\n",
       "      <th>popularity</th>\n",
       "      <th>runtime</th>\n",
       "      <th>vote_average</th>\n",
       "      <th>vote_count</th>\n",
       "    </tr>\n",
       "    <tr>\n",
       "      <th>crew</th>\n",
       "      <th>title</th>\n",
       "      <th>genres</th>\n",
       "      <th>year</th>\n",
       "      <th>revenue</th>\n",
       "      <th></th>\n",
       "      <th></th>\n",
       "      <th></th>\n",
       "      <th></th>\n",
       "      <th></th>\n",
       "    </tr>\n",
       "  </thead>\n",
       "  <tbody>\n",
       "    <tr>\n",
       "      <th>Stephen E. Rivkin | Rick Carter | Christopher Boyes | Christopher Boyes</th>\n",
       "      <th>Avatar</th>\n",
       "      <th>Action | Adventure | Fantasy | Science Fiction</th>\n",
       "      <th>2009</th>\n",
       "      <th>2787965087</th>\n",
       "      <td>237000000</td>\n",
       "      <td>150.437577</td>\n",
       "      <td>162.0</td>\n",
       "      <td>7.2</td>\n",
       "      <td>11800</td>\n",
       "    </tr>\n",
       "    <tr>\n",
       "      <th>Dariusz Wolski | Gore Verbinski | Jerry Bruckheimer | Ted Elliott</th>\n",
       "      <th>Pirates of the Caribbean: At World's End</th>\n",
       "      <th>Adventure | Fantasy | Action</th>\n",
       "      <th>2007</th>\n",
       "      <th>961000000</th>\n",
       "      <td>300000000</td>\n",
       "      <td>139.082615</td>\n",
       "      <td>169.0</td>\n",
       "      <td>6.9</td>\n",
       "      <td>4500</td>\n",
       "    </tr>\n",
       "    <tr>\n",
       "      <th>Thomas Newman | Sam Mendes | Anna Pinnock | John Logan</th>\n",
       "      <th>Spectre</th>\n",
       "      <th>Action | Adventure | Crime</th>\n",
       "      <th>2015</th>\n",
       "      <th>880674609</th>\n",
       "      <td>245000000</td>\n",
       "      <td>107.376788</td>\n",
       "      <td>148.0</td>\n",
       "      <td>6.3</td>\n",
       "      <td>4466</td>\n",
       "    </tr>\n",
       "    <tr>\n",
       "      <th>Hans Zimmer | Charles Roven | Christopher Nolan | Christopher Nolan</th>\n",
       "      <th>The Dark Knight Rises</th>\n",
       "      <th>Action | Crime | Drama | Thriller</th>\n",
       "      <th>2012</th>\n",
       "      <th>1084939099</th>\n",
       "      <td>250000000</td>\n",
       "      <td>112.312950</td>\n",
       "      <td>165.0</td>\n",
       "      <td>7.6</td>\n",
       "      <td>9106</td>\n",
       "    </tr>\n",
       "    <tr>\n",
       "      <th>Andrew Stanton | Andrew Stanton | John Lasseter | Colin Wilson</th>\n",
       "      <th>John Carter</th>\n",
       "      <th>Action | Adventure | Science Fiction</th>\n",
       "      <th>2012</th>\n",
       "      <th>284139100</th>\n",
       "      <td>260000000</td>\n",
       "      <td>43.926995</td>\n",
       "      <td>132.0</td>\n",
       "      <td>6.1</td>\n",
       "      <td>2124</td>\n",
       "    </tr>\n",
       "    <tr>\n",
       "      <th>Francine Maisler | Joseph M. Caracciolo Jr. | Sam Raimi | Sam Raimi</th>\n",
       "      <th>Spider-Man 3</th>\n",
       "      <th>Fantasy | Action | Adventure</th>\n",
       "      <th>2007</th>\n",
       "      <th>890871626</th>\n",
       "      <td>258000000</td>\n",
       "      <td>115.699814</td>\n",
       "      <td>139.0</td>\n",
       "      <td>5.9</td>\n",
       "      <td>3576</td>\n",
       "    </tr>\n",
       "    <tr>\n",
       "      <th>John Lasseter | Jacob Grimm | Wilhelm Grimm | John Kahrs</th>\n",
       "      <th>Tangled</th>\n",
       "      <th>Animation | Family</th>\n",
       "      <th>2010</th>\n",
       "      <th>591794936</th>\n",
       "      <td>260000000</td>\n",
       "      <td>48.681969</td>\n",
       "      <td>100.0</td>\n",
       "      <td>7.4</td>\n",
       "      <td>3330</td>\n",
       "    </tr>\n",
       "    <tr>\n",
       "      <th>Danny Elfman | Christopher Boyes | Christopher Boyes | Sarah Finn</th>\n",
       "      <th>Avengers: Age of Ultron</th>\n",
       "      <th>Action | Adventure | Science Fiction</th>\n",
       "      <th>2015</th>\n",
       "      <th>1405403694</th>\n",
       "      <td>280000000</td>\n",
       "      <td>134.279229</td>\n",
       "      <td>141.0</td>\n",
       "      <td>7.3</td>\n",
       "      <td>6767</td>\n",
       "    </tr>\n",
       "    <tr>\n",
       "      <th>Bruno Delbonnel | Stephanie McMillan | Stuart Craig | J.K. Rowling</th>\n",
       "      <th>Harry Potter and the Half-Blood Prince</th>\n",
       "      <th>Adventure | Fantasy | Family</th>\n",
       "      <th>2009</th>\n",
       "      <th>933959197</th>\n",
       "      <td>250000000</td>\n",
       "      <td>98.885637</td>\n",
       "      <td>153.0</td>\n",
       "      <td>7.4</td>\n",
       "      <td>5293</td>\n",
       "    </tr>\n",
       "    <tr>\n",
       "      <th>Hans Zimmer | Charles Roven | Christopher Nolan | Emma Thomas</th>\n",
       "      <th>Batman v Superman: Dawn of Justice</th>\n",
       "      <th>Action | Adventure | Fantasy</th>\n",
       "      <th>2016</th>\n",
       "      <th>873260194</th>\n",
       "      <td>250000000</td>\n",
       "      <td>155.790452</td>\n",
       "      <td>151.0</td>\n",
       "      <td>5.7</td>\n",
       "      <td>7004</td>\n",
       "    </tr>\n",
       "  </tbody>\n",
       "</table>\n",
       "</div>"
      ],
      "text/plain": [
       "                                                                                                                                                               budget  \\\n",
       "crew                                               title                                    genres                                         year revenue                 \n",
       "Stephen E. Rivkin | Rick Carter | Christopher B... Avatar                                   Action | Adventure | Fantasy | Science Fiction 2009 2787965087  237000000   \n",
       "Dariusz Wolski | Gore Verbinski | Jerry Bruckhe... Pirates of the Caribbean: At World's End Adventure | Fantasy | Action                   2007 961000000   300000000   \n",
       "Thomas Newman | Sam Mendes | Anna Pinnock | Joh... Spectre                                  Action | Adventure | Crime                     2015 880674609   245000000   \n",
       "Hans Zimmer | Charles Roven | Christopher Nolan... The Dark Knight Rises                    Action | Crime | Drama | Thriller              2012 1084939099  250000000   \n",
       "Andrew Stanton | Andrew Stanton | John Lasseter... John Carter                              Action | Adventure | Science Fiction           2012 284139100   260000000   \n",
       "Francine Maisler | Joseph M. Caracciolo Jr. | S... Spider-Man 3                             Fantasy | Action | Adventure                   2007 890871626   258000000   \n",
       "John Lasseter | Jacob Grimm | Wilhelm Grimm | J... Tangled                                  Animation | Family                             2010 591794936   260000000   \n",
       "Danny Elfman | Christopher Boyes | Christopher ... Avengers: Age of Ultron                  Action | Adventure | Science Fiction           2015 1405403694  280000000   \n",
       "Bruno Delbonnel | Stephanie McMillan | Stuart C... Harry Potter and the Half-Blood Prince   Adventure | Fantasy | Family                   2009 933959197   250000000   \n",
       "Hans Zimmer | Charles Roven | Christopher Nolan... Batman v Superman: Dawn of Justice       Action | Adventure | Fantasy                   2016 873260194   250000000   \n",
       "\n",
       "                                                                                                                                                            popularity  \\\n",
       "crew                                               title                                    genres                                         year revenue                  \n",
       "Stephen E. Rivkin | Rick Carter | Christopher B... Avatar                                   Action | Adventure | Fantasy | Science Fiction 2009 2787965087  150.437577   \n",
       "Dariusz Wolski | Gore Verbinski | Jerry Bruckhe... Pirates of the Caribbean: At World's End Adventure | Fantasy | Action                   2007 961000000   139.082615   \n",
       "Thomas Newman | Sam Mendes | Anna Pinnock | Joh... Spectre                                  Action | Adventure | Crime                     2015 880674609   107.376788   \n",
       "Hans Zimmer | Charles Roven | Christopher Nolan... The Dark Knight Rises                    Action | Crime | Drama | Thriller              2012 1084939099  112.312950   \n",
       "Andrew Stanton | Andrew Stanton | John Lasseter... John Carter                              Action | Adventure | Science Fiction           2012 284139100    43.926995   \n",
       "Francine Maisler | Joseph M. Caracciolo Jr. | S... Spider-Man 3                             Fantasy | Action | Adventure                   2007 890871626   115.699814   \n",
       "John Lasseter | Jacob Grimm | Wilhelm Grimm | J... Tangled                                  Animation | Family                             2010 591794936    48.681969   \n",
       "Danny Elfman | Christopher Boyes | Christopher ... Avengers: Age of Ultron                  Action | Adventure | Science Fiction           2015 1405403694  134.279229   \n",
       "Bruno Delbonnel | Stephanie McMillan | Stuart C... Harry Potter and the Half-Blood Prince   Adventure | Fantasy | Family                   2009 933959197    98.885637   \n",
       "Hans Zimmer | Charles Roven | Christopher Nolan... Batman v Superman: Dawn of Justice       Action | Adventure | Fantasy                   2016 873260194   155.790452   \n",
       "\n",
       "                                                                                                                                                            runtime  \\\n",
       "crew                                               title                                    genres                                         year revenue               \n",
       "Stephen E. Rivkin | Rick Carter | Christopher B... Avatar                                   Action | Adventure | Fantasy | Science Fiction 2009 2787965087    162.0   \n",
       "Dariusz Wolski | Gore Verbinski | Jerry Bruckhe... Pirates of the Caribbean: At World's End Adventure | Fantasy | Action                   2007 961000000     169.0   \n",
       "Thomas Newman | Sam Mendes | Anna Pinnock | Joh... Spectre                                  Action | Adventure | Crime                     2015 880674609     148.0   \n",
       "Hans Zimmer | Charles Roven | Christopher Nolan... The Dark Knight Rises                    Action | Crime | Drama | Thriller              2012 1084939099    165.0   \n",
       "Andrew Stanton | Andrew Stanton | John Lasseter... John Carter                              Action | Adventure | Science Fiction           2012 284139100     132.0   \n",
       "Francine Maisler | Joseph M. Caracciolo Jr. | S... Spider-Man 3                             Fantasy | Action | Adventure                   2007 890871626     139.0   \n",
       "John Lasseter | Jacob Grimm | Wilhelm Grimm | J... Tangled                                  Animation | Family                             2010 591794936     100.0   \n",
       "Danny Elfman | Christopher Boyes | Christopher ... Avengers: Age of Ultron                  Action | Adventure | Science Fiction           2015 1405403694    141.0   \n",
       "Bruno Delbonnel | Stephanie McMillan | Stuart C... Harry Potter and the Half-Blood Prince   Adventure | Fantasy | Family                   2009 933959197     153.0   \n",
       "Hans Zimmer | Charles Roven | Christopher Nolan... Batman v Superman: Dawn of Justice       Action | Adventure | Fantasy                   2016 873260194     151.0   \n",
       "\n",
       "                                                                                                                                                            vote_average  \\\n",
       "crew                                               title                                    genres                                         year revenue                    \n",
       "Stephen E. Rivkin | Rick Carter | Christopher B... Avatar                                   Action | Adventure | Fantasy | Science Fiction 2009 2787965087           7.2   \n",
       "Dariusz Wolski | Gore Verbinski | Jerry Bruckhe... Pirates of the Caribbean: At World's End Adventure | Fantasy | Action                   2007 961000000            6.9   \n",
       "Thomas Newman | Sam Mendes | Anna Pinnock | Joh... Spectre                                  Action | Adventure | Crime                     2015 880674609            6.3   \n",
       "Hans Zimmer | Charles Roven | Christopher Nolan... The Dark Knight Rises                    Action | Crime | Drama | Thriller              2012 1084939099           7.6   \n",
       "Andrew Stanton | Andrew Stanton | John Lasseter... John Carter                              Action | Adventure | Science Fiction           2012 284139100            6.1   \n",
       "Francine Maisler | Joseph M. Caracciolo Jr. | S... Spider-Man 3                             Fantasy | Action | Adventure                   2007 890871626            5.9   \n",
       "John Lasseter | Jacob Grimm | Wilhelm Grimm | J... Tangled                                  Animation | Family                             2010 591794936            7.4   \n",
       "Danny Elfman | Christopher Boyes | Christopher ... Avengers: Age of Ultron                  Action | Adventure | Science Fiction           2015 1405403694           7.3   \n",
       "Bruno Delbonnel | Stephanie McMillan | Stuart C... Harry Potter and the Half-Blood Prince   Adventure | Fantasy | Family                   2009 933959197            7.4   \n",
       "Hans Zimmer | Charles Roven | Christopher Nolan... Batman v Superman: Dawn of Justice       Action | Adventure | Fantasy                   2016 873260194            5.7   \n",
       "\n",
       "                                                                                                                                                            vote_count  \n",
       "crew                                               title                                    genres                                         year revenue                 \n",
       "Stephen E. Rivkin | Rick Carter | Christopher B... Avatar                                   Action | Adventure | Fantasy | Science Fiction 2009 2787965087       11800  \n",
       "Dariusz Wolski | Gore Verbinski | Jerry Bruckhe... Pirates of the Caribbean: At World's End Adventure | Fantasy | Action                   2007 961000000         4500  \n",
       "Thomas Newman | Sam Mendes | Anna Pinnock | Joh... Spectre                                  Action | Adventure | Crime                     2015 880674609         4466  \n",
       "Hans Zimmer | Charles Roven | Christopher Nolan... The Dark Knight Rises                    Action | Crime | Drama | Thriller              2012 1084939099        9106  \n",
       "Andrew Stanton | Andrew Stanton | John Lasseter... John Carter                              Action | Adventure | Science Fiction           2012 284139100         2124  \n",
       "Francine Maisler | Joseph M. Caracciolo Jr. | S... Spider-Man 3                             Fantasy | Action | Adventure                   2007 890871626         3576  \n",
       "John Lasseter | Jacob Grimm | Wilhelm Grimm | J... Tangled                                  Animation | Family                             2010 591794936         3330  \n",
       "Danny Elfman | Christopher Boyes | Christopher ... Avengers: Age of Ultron                  Action | Adventure | Science Fiction           2015 1405403694        6767  \n",
       "Bruno Delbonnel | Stephanie McMillan | Stuart C... Harry Potter and the Half-Blood Prince   Adventure | Fantasy | Family                   2009 933959197         5293  \n",
       "Hans Zimmer | Charles Roven | Christopher Nolan... Batman v Superman: Dawn of Justice       Action | Adventure | Fantasy                   2016 873260194         7004  "
      ]
     },
     "execution_count": 39,
     "metadata": {},
     "output_type": "execute_result"
    }
   ],
   "source": [
    "aa = movies.groupby(['crew','title','genres', 'year',\n",
    "                    'revenue'], sort=False).mean()\n",
    "aa.head(10)\n"
   ]
  },
  {
   "cell_type": "code",
   "execution_count": 5,
   "metadata": {},
   "outputs": [
    {
     "data": {
      "text/plain": [
       "0    6.0\n",
       "1    6.5\n",
       "dtype: float64"
      ]
     },
     "execution_count": 5,
     "metadata": {},
     "output_type": "execute_result"
    }
   ],
   "source": [
    "movies.vote_average.mode()"
   ]
  },
  {
   "cell_type": "markdown",
   "metadata": {},
   "source": [
    "From this we can see that the genre of action is the most popular genre to get a movie with high revenue from the first 10 movies 8 of them have the genre of Action then Adventure then Fantasy"
   ]
  },
  {
   "cell_type": "markdown",
   "metadata": {},
   "source": [
    "### Conclusion\n"
   ]
  },
  {
   "cell_type": "markdown",
   "metadata": {},
   "source": [
    "> ***Tip***: In this section of the report, I will make some conclusions about the data."
   ]
  },
  {
   "cell_type": "markdown",
   "metadata": {},
   "source": [
    "1- movie industry is profitable and in high trend"
   ]
  },
  {
   "cell_type": "markdown",
   "metadata": {},
   "source": [
    "2- Action, Fantasy and Adventure are the most popular genres to get a movie with high revenue"
   ]
  },
  {
   "cell_type": "markdown",
   "metadata": {},
   "source": [
    "3-average movies get rate of 6.5 and it easy to find movie with high rate "
   ]
  },
  {
   "cell_type": "markdown",
   "metadata": {},
   "source": [
    "4- Best director's make profit:\n",
    "<ul>\n",
    "\n",
    "<li>\n",
    "          Steven Spielberg\n",
    "            </li>\n",
    "            <li>Peter Jackson</li>\n",
    "            <li>James Cameron</li>\n",
    "            <li>Michael Bay</li>\n",
    "            <li>Christopher Nolan</li>\n",
    "</ul>"
   ]
  },
  {
   "cell_type": "markdown",
   "metadata": {},
   "source": [
    "### hypertension"
   ]
  },
  {
   "cell_type": "code",
   "execution_count": 63,
   "metadata": {},
   "outputs": [
    {
     "data": {
      "text/plain": [
       "1"
      ]
     },
     "execution_count": 63,
     "metadata": {},
     "output_type": "execute_result"
    }
   ],
   "source": [
    "from subprocess import call\n",
    "call(['python', '-m', 'nbconvert', 'investigate-a-dataset-template.ipynb'])\n"
   ]
  }
 ],
 "metadata": {
  "interpreter": {
   "hash": "11938c6bc6919ae2720b4d5011047913343b08a43b18698fd82dedb0d4417594"
  },
  "kernelspec": {
   "display_name": "Python 3.9.0 64-bit",
   "language": "python",
   "name": "python3"
  },
  "language_info": {
   "codemirror_mode": {
    "name": "ipython",
    "version": 3
   },
   "file_extension": ".py",
   "mimetype": "text/x-python",
   "name": "python",
   "nbconvert_exporter": "python",
   "pygments_lexer": "ipython3",
   "version": "3.9.0"
  }
 },
 "nbformat": 4,
 "nbformat_minor": 2
}
